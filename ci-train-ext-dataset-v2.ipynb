{
 "cells": [
  {
   "cell_type": "code",
   "execution_count": 1,
   "id": "empirical-fundamental",
   "metadata": {
    "_cell_guid": "b1076dfc-b9ad-4769-8c92-a6c4dae69d19",
    "_uuid": "8f2839f25d086af736a60e9eeb907d3b93b6e0e5",
    "execution": {
     "iopub.execute_input": "2021-06-17T04:02:49.744219Z",
     "iopub.status.busy": "2021-06-17T04:02:49.743484Z",
     "iopub.status.idle": "2021-06-17T04:02:49.747047Z",
     "shell.execute_reply": "2021-06-17T04:02:49.746338Z",
     "shell.execute_reply.started": "2021-06-17T03:59:16.226394Z"
    },
    "papermill": {
     "duration": 0.022625,
     "end_time": "2021-06-17T04:02:49.747209",
     "exception": false,
     "start_time": "2021-06-17T04:02:49.724584",
     "status": "completed"
    },
    "tags": []
   },
   "outputs": [],
   "source": [
    "MAX_SAMPLE = None"
   ]
  },
  {
   "cell_type": "code",
   "execution_count": 2,
   "id": "honey-accounting",
   "metadata": {
    "execution": {
     "iopub.execute_input": "2021-06-17T04:02:49.777789Z",
     "iopub.status.busy": "2021-06-17T04:02:49.776948Z",
     "iopub.status.idle": "2021-06-17T04:02:58.180026Z",
     "shell.execute_reply": "2021-06-17T04:02:58.179037Z",
     "shell.execute_reply.started": "2021-06-17T03:59:16.442525Z"
    },
    "papermill": {
     "duration": 8.421549,
     "end_time": "2021-06-17T04:02:58.180191",
     "exception": false,
     "start_time": "2021-06-17T04:02:49.758642",
     "status": "completed"
    },
    "tags": []
   },
   "outputs": [],
   "source": [
    "# !pip install datasets --no-index --find-links=file:///kaggle/input/coleridge-packages/packages/datasets\n",
    "# !pip install -q ../input/coleridge-packages/seqeval-1.2.2-py3-none-any.whl\n",
    "# !pip install -q ../input/coleridge-packages/tokenizers-0.10.1-cp37-cp37m-manylinux1_x86_64.whl\n",
    "# !pip install -q ../input/coleridge-packages/transformers-4.5.0.dev0-py3-none-any.whl\n",
    "\n",
    "import os\n",
    "import re\n",
    "import json\n",
    "import time\n",
    "import datetime\n",
    "import random\n",
    "import glob\n",
    "import importlib\n",
    "\n",
    "import numpy as np\n",
    "import pandas as pd\n",
    "\n",
    "from tqdm import tqdm\n",
    "import matplotlib.pyplot as plt\n",
    "import seaborn as sns\n",
    "\n",
    "import torch\n",
    "from transformers import AutoTokenizer, DataCollatorForLanguageModeling, \\\n",
    "AutoModelForMaskedLM, Trainer, TrainingArguments, pipeline, AutoConfig\n",
    "\n",
    "sns.set()\n",
    "random.seed(123)\n",
    "np.random.seed(456)\n",
    "\n",
    "from IPython.display import clear_output\n",
    "clear_output()"
   ]
  },
  {
   "cell_type": "code",
   "execution_count": 3,
   "id": "atlantic-contents",
   "metadata": {
    "execution": {
     "iopub.execute_input": "2021-06-17T04:02:58.207480Z",
     "iopub.status.busy": "2021-06-17T04:02:58.206810Z",
     "iopub.status.idle": "2021-06-17T04:02:58.208808Z",
     "shell.execute_reply": "2021-06-17T04:02:58.209322Z",
     "shell.execute_reply.started": "2021-06-17T03:59:25.331739Z"
    },
    "papermill": {
     "duration": 0.01766,
     "end_time": "2021-06-17T04:02:58.209486",
     "exception": false,
     "start_time": "2021-06-17T04:02:58.191826",
     "status": "completed"
    },
    "tags": []
   },
   "outputs": [],
   "source": [
    "# model_checkpoint = \"bert-base-cased\"\n",
    "\n",
    "# MAX_LENGTH = 64\n",
    "# OVERLAP = 20\n",
    "\n",
    "# DATASET_SYMBOL = '$' # this symbol represents a dataset name\n",
    "# NONDATA_SYMBOL = '#' # this symbol represents a non-dataset name"
   ]
  },
  {
   "cell_type": "code",
   "execution_count": 4,
   "id": "awful-aging",
   "metadata": {
    "execution": {
     "iopub.execute_input": "2021-06-17T04:02:58.235168Z",
     "iopub.status.busy": "2021-06-17T04:02:58.234536Z",
     "iopub.status.idle": "2021-06-17T04:02:58.420683Z",
     "shell.execute_reply": "2021-06-17T04:02:58.420028Z",
     "shell.execute_reply.started": "2021-06-17T03:59:25.778185Z"
    },
    "papermill": {
     "duration": 0.200034,
     "end_time": "2021-06-17T04:02:58.420818",
     "exception": false,
     "start_time": "2021-06-17T04:02:58.220784",
     "status": "completed"
    },
    "tags": []
   },
   "outputs": [
    {
     "name": "stdout",
     "output_type": "stream",
     "text": [
      "train size:  14316\n"
     ]
    },
    {
     "data": {
      "text/html": [
       "<div>\n",
       "<style scoped>\n",
       "    .dataframe tbody tr th:only-of-type {\n",
       "        vertical-align: middle;\n",
       "    }\n",
       "\n",
       "    .dataframe tbody tr th {\n",
       "        vertical-align: top;\n",
       "    }\n",
       "\n",
       "    .dataframe thead th {\n",
       "        text-align: right;\n",
       "    }\n",
       "</style>\n",
       "<table border=\"1\" class=\"dataframe\">\n",
       "  <thead>\n",
       "    <tr style=\"text-align: right;\">\n",
       "      <th></th>\n",
       "      <th>Id</th>\n",
       "      <th>pub_title</th>\n",
       "      <th>dataset_title</th>\n",
       "      <th>dataset_label</th>\n",
       "      <th>cleaned_label</th>\n",
       "    </tr>\n",
       "  </thead>\n",
       "  <tbody>\n",
       "    <tr>\n",
       "      <th>6447</th>\n",
       "      <td>82344114-002d-482d-8a07-e0a4e0af809e</td>\n",
       "      <td>Longitudinal degradation of the default/salien...</td>\n",
       "      <td>Alzheimer's Disease Neuroimaging Initiative (A...</td>\n",
       "      <td>ADNI</td>\n",
       "      <td>adni</td>\n",
       "    </tr>\n",
       "    <tr>\n",
       "      <th>8914</th>\n",
       "      <td>bd7ba313-9d52-413d-9f07-f60d1f2b6886</td>\n",
       "      <td>Optimized cortical subdivision for classificat...</td>\n",
       "      <td>Alzheimer's Disease Neuroimaging Initiative (A...</td>\n",
       "      <td>Alzheimer's Disease Neuroimaging Initiative (A...</td>\n",
       "      <td>alzheimer s disease neuroimaging initiative adni</td>\n",
       "    </tr>\n",
       "    <tr>\n",
       "      <th>5685</th>\n",
       "      <td>79a12c98-4142-4422-a684-41a0f52e152d</td>\n",
       "      <td>Optimizing brain connectivity networks for dis...</td>\n",
       "      <td>Alzheimer's Disease Neuroimaging Initiative (A...</td>\n",
       "      <td>ADNI</td>\n",
       "      <td>adni</td>\n",
       "    </tr>\n",
       "    <tr>\n",
       "      <th>12752</th>\n",
       "      <td>95b82fe9-bc53-43bf-af9d-d04c75847b58</td>\n",
       "      <td>Persistence and Attainment of Beginning Studen...</td>\n",
       "      <td>Beginning Postsecondary Student</td>\n",
       "      <td>Beginning Postsecondary Students</td>\n",
       "      <td>beginning postsecondary students</td>\n",
       "    </tr>\n",
       "    <tr>\n",
       "      <th>4601</th>\n",
       "      <td>fbfdb1b5-b921-40a1-9b50-1ba53688c2d8</td>\n",
       "      <td>Early Alzheimer’s Disease Progression Detectio...</td>\n",
       "      <td>Alzheimer's Disease Neuroimaging Initiative (A...</td>\n",
       "      <td>ADNI</td>\n",
       "      <td>adni</td>\n",
       "    </tr>\n",
       "  </tbody>\n",
       "</table>\n",
       "</div>"
      ],
      "text/plain": [
       "                                         Id  \\\n",
       "6447   82344114-002d-482d-8a07-e0a4e0af809e   \n",
       "8914   bd7ba313-9d52-413d-9f07-f60d1f2b6886   \n",
       "5685   79a12c98-4142-4422-a684-41a0f52e152d   \n",
       "12752  95b82fe9-bc53-43bf-af9d-d04c75847b58   \n",
       "4601   fbfdb1b5-b921-40a1-9b50-1ba53688c2d8   \n",
       "\n",
       "                                               pub_title  \\\n",
       "6447   Longitudinal degradation of the default/salien...   \n",
       "8914   Optimized cortical subdivision for classificat...   \n",
       "5685   Optimizing brain connectivity networks for dis...   \n",
       "12752  Persistence and Attainment of Beginning Studen...   \n",
       "4601   Early Alzheimer’s Disease Progression Detectio...   \n",
       "\n",
       "                                           dataset_title  \\\n",
       "6447   Alzheimer's Disease Neuroimaging Initiative (A...   \n",
       "8914   Alzheimer's Disease Neuroimaging Initiative (A...   \n",
       "5685   Alzheimer's Disease Neuroimaging Initiative (A...   \n",
       "12752                    Beginning Postsecondary Student   \n",
       "4601   Alzheimer's Disease Neuroimaging Initiative (A...   \n",
       "\n",
       "                                           dataset_label  \\\n",
       "6447                                                ADNI   \n",
       "8914   Alzheimer's Disease Neuroimaging Initiative (A...   \n",
       "5685                                                ADNI   \n",
       "12752                   Beginning Postsecondary Students   \n",
       "4601                                                ADNI   \n",
       "\n",
       "                                           cleaned_label  \n",
       "6447                                                adni  \n",
       "8914   alzheimer s disease neuroimaging initiative adni   \n",
       "5685                                                adni  \n",
       "12752                   beginning postsecondary students  \n",
       "4601                                                adni  "
      ]
     },
     "execution_count": 4,
     "metadata": {},
     "output_type": "execute_result"
    }
   ],
   "source": [
    "# train\n",
    "train_path = '../input/coleridgeinitiative-show-us-the-data/train.csv'\n",
    "paper_train_folder = '../input/coleridgeinitiative-show-us-the-data/train'\n",
    "\n",
    "train = pd.read_csv(train_path)\n",
    "train = train[:MAX_SAMPLE]\n",
    "# Group by publication, training labels should have the same form as expected output.\n",
    "# train = train.groupby('Id').agg({\n",
    "#     'pub_title': 'first',\n",
    "#     'dataset_title': '|'.join,\n",
    "#     'dataset_label': '|'.join,\n",
    "#     'cleaned_label': '|'.join\n",
    "# }).reset_index()    \n",
    "train.drop_duplicates(subset='Id', keep='last', inplace=True)\n",
    "\n",
    "print('train size: ', len(train))\n",
    "train.sample(5)"
   ]
  },
  {
   "cell_type": "code",
   "execution_count": 5,
   "id": "nutritional-parks",
   "metadata": {
    "execution": {
     "iopub.execute_input": "2021-06-17T04:02:58.460507Z",
     "iopub.status.busy": "2021-06-17T04:02:58.459829Z",
     "iopub.status.idle": "2021-06-17T04:02:58.463093Z",
     "shell.execute_reply": "2021-06-17T04:02:58.462613Z",
     "shell.execute_reply.started": "2021-06-17T03:59:27.190576Z"
    },
    "papermill": {
     "duration": 0.028752,
     "end_time": "2021-06-17T04:02:58.463242",
     "exception": false,
     "start_time": "2021-06-17T04:02:58.434490",
     "status": "completed"
    },
    "tags": []
   },
   "outputs": [],
   "source": [
    "def clean_training_text(txt):\n",
    "    \"\"\"\n",
    "    similar to the default clean_text function but without lowercasing.\n",
    "    \"\"\"\n",
    "    return re.sub('[^A-Za-z0-9]+', ' ', str(txt)).strip()\n",
    "\n",
    "def clean_text(txt):\n",
    "    return re.sub('[^A-Za-z0-9]+', ' ', str(txt).lower()).strip()\n",
    "\n",
    "def totally_clean_text(txt):\n",
    "    txt = clean_text(txt)\n",
    "    txt = re.sub(' +', ' ', txt)\n",
    "    return txt\n",
    "\n",
    "def text_cleaning(text):\n",
    "    '''\n",
    "    Converts all text to lower case, Removes special charecters, emojis and multiple spaces\n",
    "    text - Sentence that needs to be cleaned\n",
    "    '''\n",
    "    text = re.sub('[^A-Za-z0-9]+', ' ', str(text).lower()).strip()\n",
    "    text = re.sub(' +', ' ', text)\n",
    "    emoji_pattern = re.compile(\"[\"\n",
    "                               u\"\\U0001F600-\\U0001F64F\"  # emoticons\n",
    "                               u\"\\U0001F300-\\U0001F5FF\"  # symbols & pictographs\n",
    "                               u\"\\U0001F680-\\U0001F6FF\"  # transport & map symbols\n",
    "                               u\"\\U0001F1E0-\\U0001F1FF\"  # flags (iOS)\n",
    "                               \"]+\", flags=re.UNICODE)\n",
    "    text = emoji_pattern.sub(r'', text)\n",
    "    return text\n",
    "    \n",
    "paper_train_folder = '../input/coleridgeinitiative-show-us-the-data/train'\n",
    "def read_json_pub(filename, train_data_path=paper_train_folder, output='text'):\n",
    "    json_path = os.path.join(train_data_path, (filename+'.json'))\n",
    "    headings = []\n",
    "    contents = []\n",
    "    combined = []\n",
    "    with open(json_path, 'r') as f:\n",
    "        json_decode = json.load(f)\n",
    "        for data in json_decode:\n",
    "            headings.append(data.get('section_title'))\n",
    "            contents.append(data.get('text'))\n",
    "            combined.append(data.get('section_title'))\n",
    "            combined.append(data.get('text'))\n",
    "    \n",
    "    all_headings = ' '.join(headings)\n",
    "    all_contents = ' '.join(contents)\n",
    "    all_data = '. '.join(combined)\n",
    "    \n",
    "    if output == 'text':\n",
    "        return all_contents\n",
    "    elif output == 'head':\n",
    "        return all_headings\n",
    "    else:\n",
    "        return all_data"
   ]
  },
  {
   "cell_type": "code",
   "execution_count": 6,
   "id": "upper-paint",
   "metadata": {
    "execution": {
     "iopub.execute_input": "2021-06-17T04:02:58.495991Z",
     "iopub.status.busy": "2021-06-17T04:02:58.495342Z",
     "iopub.status.idle": "2021-06-17T04:02:58.499943Z",
     "shell.execute_reply": "2021-06-17T04:02:58.500452Z",
     "shell.execute_reply.started": "2021-06-17T03:59:28.371503Z"
    },
    "papermill": {
     "duration": 0.025061,
     "end_time": "2021-06-17T04:02:58.500632",
     "exception": false,
     "start_time": "2021-06-17T04:02:58.475571",
     "status": "completed"
    },
    "tags": []
   },
   "outputs": [
    {
     "name": "stdout",
     "output_type": "stream",
     "text": [
      "5\n"
     ]
    },
    {
     "data": {
      "text/plain": [
       "['Cardiovascular Health Study (CHS)',\n",
       " \"OECD's online Education Database\",\n",
       " 'North Carolina Emergency Management Spatial Data Download',\n",
       " 'Sea, Lake, and Overland Surges from Hurricanes (SLOSH) basin models',\n",
       " '2010 Nielsen Homescan Survey']"
      ]
     },
     "execution_count": 6,
     "metadata": {},
     "output_type": "execute_result"
    }
   ],
   "source": [
    "annotated_datasets = {}\n",
    "annotated_datasets['2100032a-7c33-4bff-97ef-690822c43466'] = [\n",
    "    'Cardiovascular Health Study (CHS)',\n",
    "]\n",
    "\n",
    "annotated_datasets['2f392438-e215-4169-bebf-21ac4ff253e1'] = [\n",
    "    \"OECD's online Education Database\",\n",
    "]\n",
    "\n",
    "annotated_datasets['3f316b38-1a24-45a9-8d8c-4e05a42257c6'] = [\n",
    "    'North Carolina Emergency Management Spatial Data Download',\n",
    "    'Sea, Lake, and Overland Surges from Hurricanes (SLOSH) basin models',\n",
    "]\n",
    "\n",
    "annotated_datasets['8e6996b4-ca08-4c0b-bed2-aaf07a4c6a60'] = [\n",
    "    '2010 Nielsen Homescan Survey',\n",
    "]\n",
    "\n",
    "all_annotated_datasets = []\n",
    "for key, val in annotated_datasets.items():\n",
    "    all_annotated_datasets = all_annotated_datasets + val \n",
    "    \n",
    "print(len(all_annotated_datasets))\n",
    "all_annotated_datasets[:5]"
   ]
  },
  {
   "cell_type": "code",
   "execution_count": 7,
   "id": "pharmaceutical-ecuador",
   "metadata": {
    "execution": {
     "iopub.execute_input": "2021-06-17T04:02:58.531910Z",
     "iopub.status.busy": "2021-06-17T04:02:58.531241Z",
     "iopub.status.idle": "2021-06-17T04:02:58.656994Z",
     "shell.execute_reply": "2021-06-17T04:02:58.655599Z",
     "shell.execute_reply.started": "2021-06-17T04:00:10.467373Z"
    },
    "papermill": {
     "duration": 0.143288,
     "end_time": "2021-06-17T04:02:58.657161",
     "exception": false,
     "start_time": "2021-06-17T04:02:58.513873",
     "status": "completed"
    },
    "tags": []
   },
   "outputs": [],
   "source": [
    "tmp2 = pd.read_csv('../input/coleridge-additional-gov-datasets-22000popular/data_set_800_with20000popular.csv')\n",
    "tmp3 = pd.read_csv('../input/coleridgeinitiative-show-us-the-data/train.csv')"
   ]
  },
  {
   "cell_type": "code",
   "execution_count": 8,
   "id": "filled-naples",
   "metadata": {
    "execution": {
     "iopub.execute_input": "2021-06-17T04:02:58.691906Z",
     "iopub.status.busy": "2021-06-17T04:02:58.691278Z",
     "iopub.status.idle": "2021-06-17T04:02:58.746672Z",
     "shell.execute_reply": "2021-06-17T04:02:58.746055Z",
     "shell.execute_reply.started": "2021-06-17T04:00:11.349014Z"
    },
    "papermill": {
     "duration": 0.076463,
     "end_time": "2021-06-17T04:02:58.746806",
     "exception": false,
     "start_time": "2021-06-17T04:02:58.670343",
     "status": "completed"
    },
    "tags": []
   },
   "outputs": [],
   "source": [
    "tmp2 = [x for x in tmp2['title'].unique() if len(str(x).split()) > 2]\n",
    "tmp2 = [x for x in tmp2 if len(str(x).split()) < 8]\n",
    "tmp3_ = [x for x in tmp3['cleaned_label'].unique() if len(str(x).split()) > 0]\n",
    "tmp3_ += [x for x in tmp3['dataset_title'].unique()]\n",
    "tmp3 = [clean_text(x) for x in np.unique(tmp3_)]"
   ]
  },
  {
   "cell_type": "code",
   "execution_count": 9,
   "id": "simplified-christopher",
   "metadata": {
    "execution": {
     "iopub.execute_input": "2021-06-17T04:02:58.780755Z",
     "iopub.status.busy": "2021-06-17T04:02:58.780062Z",
     "iopub.status.idle": "2021-06-17T04:02:58.957419Z",
     "shell.execute_reply": "2021-06-17T04:02:58.956810Z",
     "shell.execute_reply.started": "2021-06-17T04:00:31.321732Z"
    },
    "papermill": {
     "duration": 0.197216,
     "end_time": "2021-06-17T04:02:58.957560",
     "exception": false,
     "start_time": "2021-06-17T04:02:58.760344",
     "status": "completed"
    },
    "tags": []
   },
   "outputs": [],
   "source": [
    "tmp4 = pd.read_csv('../input/bigger-govt-dataset-list/data_set_26897.csv')\n",
    "tmp4 = [x for x in tmp4['title'].unique() if len(str(x).split()) > 2]\n",
    "tmp4 = [x for x in tmp4 if len(str(x).split()) < 8]"
   ]
  },
  {
   "cell_type": "code",
   "execution_count": 10,
   "id": "fleet-excerpt",
   "metadata": {
    "execution": {
     "iopub.execute_input": "2021-06-17T04:02:58.994820Z",
     "iopub.status.busy": "2021-06-17T04:02:58.994175Z",
     "iopub.status.idle": "2021-06-17T04:02:59.079737Z",
     "shell.execute_reply": "2021-06-17T04:02:59.079192Z",
     "shell.execute_reply.started": "2021-06-17T04:00:55.092506Z"
    },
    "papermill": {
     "duration": 0.108912,
     "end_time": "2021-06-17T04:02:59.079885",
     "exception": false,
     "start_time": "2021-06-17T04:02:58.970973",
     "status": "completed"
    },
    "tags": []
   },
   "outputs": [
    {
     "name": "stdout",
     "output_type": "stream",
     "text": [
      "8714\n"
     ]
    },
    {
     "data": {
      "text/plain": [
       "array(['08 05 2010 uh60',\n",
       "       '1 deg x 1 deg terrestrial mean free air anomalies',\n",
       "       '1 harps of the pacific islands region',\n",
       "       '10 meter sub orbital large balloon reflector',\n",
       "       '110th congressional districts geographic relationship tables'],\n",
       "      dtype='<U128')"
      ]
     },
     "execution_count": 10,
     "metadata": {},
     "output_type": "execute_result"
    }
   ],
   "source": [
    "all_datasets = np.unique(tmp2 + tmp3 + tmp4 + all_annotated_datasets)\n",
    "all_datasets = np.unique([clean_text(x) for x in all_datasets])\n",
    "print(len(all_datasets))\n",
    "all_datasets[:5]"
   ]
  },
  {
   "cell_type": "code",
   "execution_count": 11,
   "id": "sufficient-monday",
   "metadata": {
    "execution": {
     "iopub.execute_input": "2021-06-17T04:02:59.116757Z",
     "iopub.status.busy": "2021-06-17T04:02:59.116017Z",
     "iopub.status.idle": "2021-06-17T04:56:09.102490Z",
     "shell.execute_reply": "2021-06-17T04:56:09.102988Z",
     "shell.execute_reply.started": "2021-06-17T04:01:07.014403Z"
    },
    "papermill": {
     "duration": 3190.009423,
     "end_time": "2021-06-17T04:56:09.103196",
     "exception": false,
     "start_time": "2021-06-17T04:02:59.093773",
     "status": "completed"
    },
    "tags": []
   },
   "outputs": [
    {
     "name": "stderr",
     "output_type": "stream",
     "text": [
      "100%|██████████| 14316/14316 [53:09<00:00,  4.49it/s]\n"
     ]
    }
   ],
   "source": [
    "# literal_preds = []\n",
    "to_append = []\n",
    "train['ext_cleaned_label'] = ''\n",
    "for paper_id in tqdm(train['Id'].values):\n",
    "    to_append = [paper_id,'']\n",
    "    large_string = str(read_json_pub(paper_id))\n",
    "    clean_string = text_cleaning(large_string)\n",
    "    for query_string in all_datasets:\n",
    "        if query_string in clean_string:\n",
    "            if to_append[1]!='' and clean_text(query_string) not in to_append[1]:\n",
    "                to_append[1]=to_append[1]+'|'+clean_text(query_string)\n",
    "            if to_append[1]=='':\n",
    "                to_append[1]=clean_text(query_string)\n",
    "#     literal_preds.append(*to_append[1:])\n",
    "    train.loc[train['Id']==paper_id, 'ext_cleaned_label'] = to_append[1]"
   ]
  },
  {
   "cell_type": "code",
   "execution_count": 12,
   "id": "endangered-sweden",
   "metadata": {
    "execution": {
     "iopub.execute_input": "2021-06-17T04:56:16.746975Z",
     "iopub.status.busy": "2021-06-17T04:56:16.746309Z",
     "iopub.status.idle": "2021-06-17T04:56:17.010765Z",
     "shell.execute_reply": "2021-06-17T04:56:17.010111Z",
     "shell.execute_reply.started": "2021-06-17T04:01:19.509246Z"
    },
    "papermill": {
     "duration": 4.081647,
     "end_time": "2021-06-17T04:56:17.010904",
     "exception": false,
     "start_time": "2021-06-17T04:56:12.929257",
     "status": "completed"
    },
    "tags": []
   },
   "outputs": [
    {
     "data": {
      "text/html": [
       "<div>\n",
       "<style scoped>\n",
       "    .dataframe tbody tr th:only-of-type {\n",
       "        vertical-align: middle;\n",
       "    }\n",
       "\n",
       "    .dataframe tbody tr th {\n",
       "        vertical-align: top;\n",
       "    }\n",
       "\n",
       "    .dataframe thead th {\n",
       "        text-align: right;\n",
       "    }\n",
       "</style>\n",
       "<table border=\"1\" class=\"dataframe\">\n",
       "  <thead>\n",
       "    <tr style=\"text-align: right;\">\n",
       "      <th></th>\n",
       "      <th>Id</th>\n",
       "      <th>pub_title</th>\n",
       "      <th>dataset_title</th>\n",
       "      <th>dataset_label</th>\n",
       "      <th>cleaned_label</th>\n",
       "      <th>ext_cleaned_label</th>\n",
       "    </tr>\n",
       "  </thead>\n",
       "  <tbody>\n",
       "    <tr>\n",
       "      <th>0</th>\n",
       "      <td>f70051bf-a763-415b-aa66-97ae57f2efc1</td>\n",
       "      <td>Analysis of groundwater response to tidal fluc...</td>\n",
       "      <td>NOAA Tide Gauge</td>\n",
       "      <td>NOAA tidal station</td>\n",
       "      <td>noaa tidal station</td>\n",
       "      <td>noaa tidal station</td>\n",
       "    </tr>\n",
       "    <tr>\n",
       "      <th>1</th>\n",
       "      <td>0d4e13ca-47ec-4827-b814-a39e5b8fede3</td>\n",
       "      <td>Geophysical and sampling data from the inner c...</td>\n",
       "      <td>NOAA Tide Gauge</td>\n",
       "      <td>NOAA tidal station</td>\n",
       "      <td>noaa tidal station</td>\n",
       "      <td>noaa tidal station</td>\n",
       "    </tr>\n",
       "    <tr>\n",
       "      <th>2</th>\n",
       "      <td>c5cf06e5-182f-4c33-bf15-e06a0d353efd</td>\n",
       "      <td>Geophysical and sampling data from the inner c...</td>\n",
       "      <td>NOAA Tide Gauge</td>\n",
       "      <td>NOAA tidal station</td>\n",
       "      <td>noaa tidal station</td>\n",
       "      <td>gulf of maine|noaa tidal station</td>\n",
       "    </tr>\n",
       "    <tr>\n",
       "      <th>3</th>\n",
       "      <td>da25e497-208d-4ed5-9c51-37c69a5524d3</td>\n",
       "      <td>Development of the Hydrodynamic Model for Long...</td>\n",
       "      <td>NOAA Tide Gauge</td>\n",
       "      <td>NOAA tidal station</td>\n",
       "      <td>noaa tidal station</td>\n",
       "      <td>noaa tidal station</td>\n",
       "    </tr>\n",
       "    <tr>\n",
       "      <th>4</th>\n",
       "      <td>50d6879b-1c6b-4434-965e-19a7271e8c49</td>\n",
       "      <td>MODELING MICROBIAL WATER QUALITY AT A BEACH IM...</td>\n",
       "      <td>NOAA Tide Gauge</td>\n",
       "      <td>NOAA tidal station</td>\n",
       "      <td>noaa tidal station</td>\n",
       "      <td>noaa tidal station</td>\n",
       "    </tr>\n",
       "  </tbody>\n",
       "</table>\n",
       "</div>"
      ],
      "text/plain": [
       "                                     Id  \\\n",
       "0  f70051bf-a763-415b-aa66-97ae57f2efc1   \n",
       "1  0d4e13ca-47ec-4827-b814-a39e5b8fede3   \n",
       "2  c5cf06e5-182f-4c33-bf15-e06a0d353efd   \n",
       "3  da25e497-208d-4ed5-9c51-37c69a5524d3   \n",
       "4  50d6879b-1c6b-4434-965e-19a7271e8c49   \n",
       "\n",
       "                                           pub_title    dataset_title  \\\n",
       "0  Analysis of groundwater response to tidal fluc...  NOAA Tide Gauge   \n",
       "1  Geophysical and sampling data from the inner c...  NOAA Tide Gauge   \n",
       "2  Geophysical and sampling data from the inner c...  NOAA Tide Gauge   \n",
       "3  Development of the Hydrodynamic Model for Long...  NOAA Tide Gauge   \n",
       "4  MODELING MICROBIAL WATER QUALITY AT A BEACH IM...  NOAA Tide Gauge   \n",
       "\n",
       "        dataset_label       cleaned_label                 ext_cleaned_label  \n",
       "0  NOAA tidal station  noaa tidal station                noaa tidal station  \n",
       "1  NOAA tidal station  noaa tidal station                noaa tidal station  \n",
       "2  NOAA tidal station  noaa tidal station  gulf of maine|noaa tidal station  \n",
       "3  NOAA tidal station  noaa tidal station                noaa tidal station  \n",
       "4  NOAA tidal station  noaa tidal station                noaa tidal station  "
      ]
     },
     "execution_count": 12,
     "metadata": {},
     "output_type": "execute_result"
    }
   ],
   "source": [
    "train.to_csv('./train_ext_data.csv', index=False)\n",
    "pd.read_csv('./train_ext_data.csv').head()"
   ]
  },
  {
   "cell_type": "code",
   "execution_count": null,
   "id": "controlling-logistics",
   "metadata": {
    "papermill": {
     "duration": 3.792587,
     "end_time": "2021-06-17T04:56:24.649975",
     "exception": false,
     "start_time": "2021-06-17T04:56:20.857388",
     "status": "completed"
    },
    "tags": []
   },
   "outputs": [],
   "source": []
  }
 ],
 "metadata": {
  "kernelspec": {
   "display_name": "Python 3",
   "language": "python",
   "name": "python3"
  },
  "language_info": {
   "codemirror_mode": {
    "name": "ipython",
    "version": 3
   },
   "file_extension": ".py",
   "mimetype": "text/x-python",
   "name": "python",
   "nbconvert_exporter": "python",
   "pygments_lexer": "ipython3",
   "version": "3.7.9"
  },
  "papermill": {
   "default_parameters": {},
   "duration": 3226.009049,
   "end_time": "2021-06-17T04:56:29.778170",
   "environment_variables": {},
   "exception": null,
   "input_path": "__notebook__.ipynb",
   "output_path": "__notebook__.ipynb",
   "parameters": {},
   "start_time": "2021-06-17T04:02:43.769121",
   "version": "2.3.2"
  }
 },
 "nbformat": 4,
 "nbformat_minor": 5
}
