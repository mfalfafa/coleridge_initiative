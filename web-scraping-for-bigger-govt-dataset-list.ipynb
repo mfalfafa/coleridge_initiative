{
 "cells": [
  {
   "cell_type": "code",
   "execution_count": 1,
   "id": "engaging-bhutan",
   "metadata": {
    "execution": {
     "iopub.execute_input": "2021-05-25T04:24:54.328101Z",
     "iopub.status.busy": "2021-05-25T04:24:54.316109Z",
     "iopub.status.idle": "2021-05-25T04:25:05.513801Z",
     "shell.execute_reply": "2021-05-25T04:25:05.513083Z",
     "shell.execute_reply.started": "2021-05-25T04:16:50.492918Z"
    },
    "papermill": {
     "duration": 11.215142,
     "end_time": "2021-05-25T04:25:05.513981",
     "exception": false,
     "start_time": "2021-05-25T04:24:54.298839",
     "status": "completed"
    },
    "tags": []
   },
   "outputs": [],
   "source": [
    "!pip install bs4\n",
    "\n",
    "\n",
    "import requests\n",
    "from bs4 import BeautifulSoup\n",
    "\n",
    "import pandas as pd\n",
    "import re\n",
    "\n",
    "import time\n",
    "from IPython.display import clear_output\n",
    "\n",
    "\n",
    "clear_output()"
   ]
  },
  {
   "cell_type": "code",
   "execution_count": 2,
   "id": "racial-healing",
   "metadata": {
    "execution": {
     "iopub.execute_input": "2021-05-25T04:25:05.534215Z",
     "iopub.status.busy": "2021-05-25T04:25:05.533413Z",
     "iopub.status.idle": "2021-05-25T04:25:05.538376Z",
     "shell.execute_reply": "2021-05-25T04:25:05.538832Z",
     "shell.execute_reply.started": "2021-05-23T08:31:23.710445Z"
    },
    "papermill": {
     "duration": 0.016813,
     "end_time": "2021-05-25T04:25:05.539077",
     "exception": false,
     "start_time": "2021-05-25T04:25:05.522264",
     "status": "completed"
    },
    "tags": []
   },
   "outputs": [
    {
     "name": "stdout",
     "output_type": "stream",
     "text": [
      "pages = 1100\n"
     ]
    }
   ],
   "source": [
    "url_prefix = 'https://catalog.data.gov/dataset'\n",
    "total_data = 22000\n",
    "pages = int(total_data / 20)\n",
    "\n",
    "print(f'pages = {pages}')"
   ]
  },
  {
   "cell_type": "code",
   "execution_count": 3,
   "id": "exceptional-talent",
   "metadata": {
    "execution": {
     "iopub.execute_input": "2021-05-25T04:25:05.562273Z",
     "iopub.status.busy": "2021-05-25T04:25:05.561402Z",
     "iopub.status.idle": "2021-05-25T04:25:05.569144Z",
     "shell.execute_reply": "2021-05-25T04:25:05.569685Z",
     "shell.execute_reply.started": "2021-05-23T08:01:56.453502Z"
    },
    "papermill": {
     "duration": 0.020579,
     "end_time": "2021-05-25T04:25:05.569931",
     "exception": false,
     "start_time": "2021-05-25T04:25:05.549352",
     "status": "completed"
    },
    "tags": []
   },
   "outputs": [],
   "source": [
    "def get_docs_by_page(url):\n",
    "    r = requests.get(url)\n",
    "    time.sleep(3)\n",
    "    r.encoding = \"UTF-8\"\n",
    "\n",
    "    soup = BeautifulSoup(r.text,'html.parser')\n",
    "    dataset_blocks = soup.find_all(class_=\"dataset-heading\")\n",
    "\n",
    "    dataset_headings = []\n",
    "    for dataset_block in dataset_blocks:\n",
    "        dataset_heading = dataset_block.get_text()[1:-1]\n",
    "        dataset_headings.append(dataset_heading)\n",
    "\n",
    "    return dataset_headings\n",
    "\n",
    "\n",
    "def get_all_pages(first_page, last_page, url):\n",
    "    data = []\n",
    "    print(f'page number from {first_page} to {(last_page)}')\n",
    "    for page_number in range(first_page, last_page+1):\n",
    "        print(f'page number: {page_number}', end='\\r')\n",
    "        url =  url_prefix + '?page=' + str(page_number)\n",
    "        docs = get_docs_by_page(url) \n",
    "        data.extend(docs)\n",
    "        \n",
    "    print(f'page number: {page_number}')\n",
    "    print(f'len(data) = {len(data)}')\n",
    "    \n",
    "    return data"
   ]
  },
  {
   "cell_type": "code",
   "execution_count": 4,
   "id": "developmental-ordinary",
   "metadata": {
    "execution": {
     "iopub.execute_input": "2021-05-25T04:25:05.591746Z",
     "iopub.status.busy": "2021-05-25T04:25:05.590931Z",
     "iopub.status.idle": "2021-05-25T05:47:57.933333Z",
     "shell.execute_reply": "2021-05-25T05:47:57.933827Z",
     "shell.execute_reply.started": "2021-05-23T08:01:56.467764Z"
    },
    "papermill": {
     "duration": 4972.355434,
     "end_time": "2021-05-25T05:47:57.934071",
     "exception": false,
     "start_time": "2021-05-25T04:25:05.578637",
     "status": "completed"
    },
    "tags": []
   },
   "outputs": [
    {
     "name": "stdout",
     "output_type": "stream",
     "text": [
      "page number from 1 to 1100\n",
      "page number: 1100\n",
      "len(data) = 22000\n",
      "CPU times: user 2min 57s, sys: 2.58 s, total: 2min 59s\n",
      "Wall time: 1h 22min 52s\n"
     ]
    },
    {
     "data": {
      "text/html": [
       "<div>\n",
       "<style scoped>\n",
       "    .dataframe tbody tr th:only-of-type {\n",
       "        vertical-align: middle;\n",
       "    }\n",
       "\n",
       "    .dataframe tbody tr th {\n",
       "        vertical-align: top;\n",
       "    }\n",
       "\n",
       "    .dataframe thead th {\n",
       "        text-align: right;\n",
       "    }\n",
       "</style>\n",
       "<table border=\"1\" class=\"dataframe\">\n",
       "  <thead>\n",
       "    <tr style=\"text-align: right;\">\n",
       "      <th></th>\n",
       "      <th>title</th>\n",
       "    </tr>\n",
       "  </thead>\n",
       "  <tbody>\n",
       "    <tr>\n",
       "      <th>0</th>\n",
       "      <td>Department for the Aging (DFTA) Geriatric Ment...</td>\n",
       "    </tr>\n",
       "    <tr>\n",
       "      <th>1</th>\n",
       "      <td>Low-altitude aerial imagery obtained with unma...</td>\n",
       "    </tr>\n",
       "    <tr>\n",
       "      <th>2</th>\n",
       "      <td>Forestry Planting Spaces</td>\n",
       "    </tr>\n",
       "    <tr>\n",
       "      <th>3</th>\n",
       "      <td>2006 - 2011 NYS Math Test Results by Grade - C...</td>\n",
       "    </tr>\n",
       "    <tr>\n",
       "      <th>4</th>\n",
       "      <td>High Operational Temperature MWIR detectors wi...</td>\n",
       "    </tr>\n",
       "  </tbody>\n",
       "</table>\n",
       "</div>"
      ],
      "text/plain": [
       "                                               title\n",
       "0  Department for the Aging (DFTA) Geriatric Ment...\n",
       "1  Low-altitude aerial imagery obtained with unma...\n",
       "2                           Forestry Planting Spaces\n",
       "3  2006 - 2011 NYS Math Test Results by Grade - C...\n",
       "4  High Operational Temperature MWIR detectors wi..."
      ]
     },
     "execution_count": 4,
     "metadata": {},
     "output_type": "execute_result"
    }
   ],
   "source": [
    "%%time\n",
    "\n",
    "additional_gov_datasets_popular = get_all_pages(1, pages, url_prefix)\n",
    "\n",
    "additional_gov_datasets_popular = pd.DataFrame(additional_gov_datasets_popular, columns=['title'])\n",
    "additional_gov_datasets_popular.head()"
   ]
  },
  {
   "cell_type": "code",
   "execution_count": 5,
   "id": "owned-playing",
   "metadata": {
    "execution": {
     "iopub.execute_input": "2021-05-25T05:47:58.606377Z",
     "iopub.status.busy": "2021-05-25T05:47:58.605337Z",
     "iopub.status.idle": "2021-05-25T05:47:58.608772Z",
     "shell.execute_reply": "2021-05-25T05:47:58.609334Z",
     "shell.execute_reply.started": "2021-05-25T04:16:57.131344Z"
    },
    "papermill": {
     "duration": 0.342626,
     "end_time": "2021-05-25T05:47:58.609556",
     "exception": false,
     "start_time": "2021-05-25T05:47:58.266930",
     "status": "completed"
    },
    "tags": []
   },
   "outputs": [],
   "source": [
    "def text_cleaning(text):\n",
    "    '''\n",
    "    Converts all text to lower case, Removes special charecters, emojis and multiple spaces\n",
    "    text - Sentence that needs to be cleaned\n",
    "    '''\n",
    "    text = re.sub('[^A-Za-z0-9]+', ' ', str(text).lower()).strip()\n",
    "    text = re.sub(' +', ' ', text)\n",
    "    emoji_pattern = re.compile(\"[\"\n",
    "                               u\"\\U0001F600-\\U0001F64F\"  # emoticons\n",
    "                               u\"\\U0001F300-\\U0001F5FF\"  # symbols & pictographs\n",
    "                               u\"\\U0001F680-\\U0001F6FF\"  # transport & map symbols\n",
    "                               u\"\\U0001F1E0-\\U0001F1FF\"  # flags (iOS)\n",
    "                               \"]+\", flags=re.UNICODE)\n",
    "    text = emoji_pattern.sub(r'', text)\n",
    "    return text"
   ]
  },
  {
   "cell_type": "code",
   "execution_count": 6,
   "id": "retained-facial",
   "metadata": {
    "execution": {
     "iopub.execute_input": "2021-05-25T05:47:59.315246Z",
     "iopub.status.busy": "2021-05-25T05:47:59.279046Z",
     "iopub.status.idle": "2021-05-25T05:47:59.808450Z",
     "shell.execute_reply": "2021-05-25T05:47:59.808950Z",
     "shell.execute_reply.started": "2021-05-23T08:16:09.987034Z"
    },
    "papermill": {
     "duration": 0.866046,
     "end_time": "2021-05-25T05:47:59.809135",
     "exception": false,
     "start_time": "2021-05-25T05:47:58.943089",
     "status": "completed"
    },
    "tags": []
   },
   "outputs": [
    {
     "data": {
      "text/html": [
       "<div>\n",
       "<style scoped>\n",
       "    .dataframe tbody tr th:only-of-type {\n",
       "        vertical-align: middle;\n",
       "    }\n",
       "\n",
       "    .dataframe tbody tr th {\n",
       "        vertical-align: top;\n",
       "    }\n",
       "\n",
       "    .dataframe thead th {\n",
       "        text-align: right;\n",
       "    }\n",
       "</style>\n",
       "<table border=\"1\" class=\"dataframe\">\n",
       "  <thead>\n",
       "    <tr style=\"text-align: right;\">\n",
       "      <th></th>\n",
       "      <th>title</th>\n",
       "    </tr>\n",
       "  </thead>\n",
       "  <tbody>\n",
       "    <tr>\n",
       "      <th>0</th>\n",
       "      <td>department for the aging dfta geriatric mental...</td>\n",
       "    </tr>\n",
       "    <tr>\n",
       "      <th>1</th>\n",
       "      <td>low altitude aerial imagery obtained with unma...</td>\n",
       "    </tr>\n",
       "    <tr>\n",
       "      <th>2</th>\n",
       "      <td>forestry planting spaces</td>\n",
       "    </tr>\n",
       "    <tr>\n",
       "      <th>3</th>\n",
       "      <td>2006 2011 nys math test results by grade cityw...</td>\n",
       "    </tr>\n",
       "    <tr>\n",
       "      <th>4</th>\n",
       "      <td>high operational temperature mwir detectors wi...</td>\n",
       "    </tr>\n",
       "  </tbody>\n",
       "</table>\n",
       "</div>"
      ],
      "text/plain": [
       "                                               title\n",
       "0  department for the aging dfta geriatric mental...\n",
       "1  low altitude aerial imagery obtained with unma...\n",
       "2                           forestry planting spaces\n",
       "3  2006 2011 nys math test results by grade cityw...\n",
       "4  high operational temperature mwir detectors wi..."
      ]
     },
     "execution_count": 6,
     "metadata": {},
     "output_type": "execute_result"
    }
   ],
   "source": [
    "additional_gov_datasets_popular['title'] = additional_gov_datasets_popular['title'].apply(text_cleaning)\n",
    "\n",
    "additional_gov_datasets_popular.to_csv(f'additional_gov_datasets_{total_data}popular.csv', index=False)\n",
    "additional_gov_datasets_popular.head()"
   ]
  },
  {
   "cell_type": "code",
   "execution_count": 7,
   "id": "popular-imaging",
   "metadata": {
    "execution": {
     "iopub.execute_input": "2021-05-25T05:48:00.479596Z",
     "iopub.status.busy": "2021-05-25T05:48:00.478898Z",
     "iopub.status.idle": "2021-05-25T05:48:00.508407Z",
     "shell.execute_reply": "2021-05-25T05:48:00.507748Z",
     "shell.execute_reply.started": "2021-05-23T08:17:23.636568Z"
    },
    "papermill": {
     "duration": 0.364189,
     "end_time": "2021-05-25T05:48:00.508558",
     "exception": false,
     "start_time": "2021-05-25T05:48:00.144369",
     "status": "completed"
    },
    "tags": []
   },
   "outputs": [
    {
     "data": {
      "text/html": [
       "<div>\n",
       "<style scoped>\n",
       "    .dataframe tbody tr th:only-of-type {\n",
       "        vertical-align: middle;\n",
       "    }\n",
       "\n",
       "    .dataframe tbody tr th {\n",
       "        vertical-align: top;\n",
       "    }\n",
       "\n",
       "    .dataframe thead th {\n",
       "        text-align: right;\n",
       "    }\n",
       "</style>\n",
       "<table border=\"1\" class=\"dataframe\">\n",
       "  <thead>\n",
       "    <tr style=\"text-align: right;\">\n",
       "      <th></th>\n",
       "      <th>title</th>\n",
       "    </tr>\n",
       "  </thead>\n",
       "  <tbody>\n",
       "    <tr>\n",
       "      <th>0</th>\n",
       "      <td>adni</td>\n",
       "    </tr>\n",
       "    <tr>\n",
       "      <th>1</th>\n",
       "      <td>cccsl</td>\n",
       "    </tr>\n",
       "    <tr>\n",
       "      <th>2</th>\n",
       "      <td>ibtracs</td>\n",
       "    </tr>\n",
       "    <tr>\n",
       "      <th>3</th>\n",
       "      <td>noaa c cap</td>\n",
       "    </tr>\n",
       "    <tr>\n",
       "      <th>4</th>\n",
       "      <td>noaa c-cap</td>\n",
       "    </tr>\n",
       "  </tbody>\n",
       "</table>\n",
       "</div>"
      ],
      "text/plain": [
       "        title\n",
       "0        adni\n",
       "1       cccsl\n",
       "2     ibtracs\n",
       "3  noaa c cap\n",
       "4  noaa c-cap"
      ]
     },
     "execution_count": 7,
     "metadata": {},
     "output_type": "execute_result"
    }
   ],
   "source": [
    "adnl_govt_labels = pd.read_csv('../input/bigger-govt-dataset-list/data_set_800.csv')\n",
    "adnl_govt_labels.head()"
   ]
  },
  {
   "cell_type": "code",
   "execution_count": 8,
   "id": "alternate-assembly",
   "metadata": {
    "execution": {
     "iopub.execute_input": "2021-05-25T05:48:01.189201Z",
     "iopub.status.busy": "2021-05-25T05:48:01.186852Z",
     "iopub.status.idle": "2021-05-25T05:48:01.857969Z",
     "shell.execute_reply": "2021-05-25T05:48:01.857328Z",
     "shell.execute_reply.started": "2021-05-23T08:35:25.849496Z"
    },
    "papermill": {
     "duration": 1.01474,
     "end_time": "2021-05-25T05:48:01.858140",
     "exception": false,
     "start_time": "2021-05-25T05:48:00.843400",
     "status": "completed"
    },
    "tags": []
   },
   "outputs": [
    {
     "name": "stdout",
     "output_type": "stream",
     "text": [
      "data_set_800_with2000popular.csv is saved with len = 4339\n",
      "data_set_800_with4000popular.csv is saved with len = 6339\n",
      "data_set_800_with6000popular.csv is saved with len = 8339\n",
      "data_set_800_with8000popular.csv is saved with len = 10339\n",
      "data_set_800_with10000popular.csv is saved with len = 12339\n",
      "data_set_800_with12000popular.csv is saved with len = 14339\n",
      "data_set_800_with14000popular.csv is saved with len = 16339\n",
      "data_set_800_with16000popular.csv is saved with len = 18339\n",
      "data_set_800_with18000popular.csv is saved with len = 20339\n",
      "data_set_800_with20000popular.csv is saved with len = 22339\n",
      "data_set_800_with22000popular.csv is saved with len = 24339\n"
     ]
    },
    {
     "data": {
      "text/html": [
       "<div>\n",
       "<style scoped>\n",
       "    .dataframe tbody tr th:only-of-type {\n",
       "        vertical-align: middle;\n",
       "    }\n",
       "\n",
       "    .dataframe tbody tr th {\n",
       "        vertical-align: top;\n",
       "    }\n",
       "\n",
       "    .dataframe thead th {\n",
       "        text-align: right;\n",
       "    }\n",
       "</style>\n",
       "<table border=\"1\" class=\"dataframe\">\n",
       "  <thead>\n",
       "    <tr style=\"text-align: right;\">\n",
       "      <th></th>\n",
       "      <th>title</th>\n",
       "    </tr>\n",
       "  </thead>\n",
       "  <tbody>\n",
       "    <tr>\n",
       "      <th>0</th>\n",
       "      <td>adni</td>\n",
       "    </tr>\n",
       "    <tr>\n",
       "      <th>1</th>\n",
       "      <td>cccsl</td>\n",
       "    </tr>\n",
       "    <tr>\n",
       "      <th>2</th>\n",
       "      <td>ibtracs</td>\n",
       "    </tr>\n",
       "    <tr>\n",
       "      <th>3</th>\n",
       "      <td>noaa c cap</td>\n",
       "    </tr>\n",
       "    <tr>\n",
       "      <th>4</th>\n",
       "      <td>noaa c-cap</td>\n",
       "    </tr>\n",
       "    <tr>\n",
       "      <th>...</th>\n",
       "      <td>...</td>\n",
       "    </tr>\n",
       "    <tr>\n",
       "      <th>24334</th>\n",
       "      <td>a robust real time collaboration technology fo...</td>\n",
       "    </tr>\n",
       "    <tr>\n",
       "      <th>24335</th>\n",
       "      <td>free form mirrors for ultra compact high speed...</td>\n",
       "    </tr>\n",
       "    <tr>\n",
       "      <th>24336</th>\n",
       "      <td>calipso wide field camera wfc l1b science 1 km...</td>\n",
       "    </tr>\n",
       "    <tr>\n",
       "      <th>24337</th>\n",
       "      <td>radiation mitigation methods for reprogrammabl...</td>\n",
       "    </tr>\n",
       "    <tr>\n",
       "      <th>24338</th>\n",
       "      <td>quakesim multi source synergistic data intensi...</td>\n",
       "    </tr>\n",
       "  </tbody>\n",
       "</table>\n",
       "<p>24339 rows × 1 columns</p>\n",
       "</div>"
      ],
      "text/plain": [
       "                                                   title\n",
       "0                                                   adni\n",
       "1                                                  cccsl\n",
       "2                                                ibtracs\n",
       "3                                             noaa c cap\n",
       "4                                             noaa c-cap\n",
       "...                                                  ...\n",
       "24334  a robust real time collaboration technology fo...\n",
       "24335  free form mirrors for ultra compact high speed...\n",
       "24336  calipso wide field camera wfc l1b science 1 km...\n",
       "24337  radiation mitigation methods for reprogrammabl...\n",
       "24338  quakesim multi source synergistic data intensi...\n",
       "\n",
       "[24339 rows x 1 columns]"
      ]
     },
     "execution_count": 8,
     "metadata": {},
     "output_type": "execute_result"
    }
   ],
   "source": [
    "for final_row in range(2000, total_data+1, 2000):\n",
    "    data_set_800_with_popular = pd.concat([adnl_govt_labels, \n",
    "                                           additional_gov_datasets_popular.iloc[:final_row]]).reset_index(drop=True)\n",
    "    data_set_800_with_popular.to_csv(f'data_set_800_with{final_row}popular.csv', index=False)\n",
    "    print(f'data_set_800_with{final_row}popular.csv is saved with len = {len(data_set_800_with_popular)}')\n",
    "\n",
    "data_set_800_with_popular"
   ]
  }
 ],
 "metadata": {
  "kernelspec": {
   "display_name": "Python 3",
   "language": "python",
   "name": "python3"
  },
  "language_info": {
   "codemirror_mode": {
    "name": "ipython",
    "version": 3
   },
   "file_extension": ".py",
   "mimetype": "text/x-python",
   "name": "python",
   "nbconvert_exporter": "python",
   "pygments_lexer": "ipython3",
   "version": "3.7.9"
  },
  "papermill": {
   "default_parameters": {},
   "duration": 4994.950247,
   "end_time": "2021-05-25T05:48:02.910105",
   "environment_variables": {},
   "exception": null,
   "input_path": "__notebook__.ipynb",
   "output_path": "__notebook__.ipynb",
   "parameters": {},
   "start_time": "2021-05-25T04:24:47.959858",
   "version": "2.3.2"
  }
 },
 "nbformat": 4,
 "nbformat_minor": 5
}
